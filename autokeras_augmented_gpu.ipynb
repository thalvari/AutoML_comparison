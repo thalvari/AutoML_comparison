{
 "cells": [
  {
   "cell_type": "code",
   "execution_count": 51,
   "metadata": {
    "collapsed": true,
    "pycharm": {
     "is_executing": false
    }
   },
   "outputs": [],
   "source": [
    "import pickle\n",
    "import time\n",
    "import warnings\n",
    "\n",
    "import torch\n",
    "warnings.filterwarnings(\"ignore\")\n",
    "from pathlib import Path\n",
    "\n",
    "import autokeras as ak\n",
    "import matplotlib.pyplot as plt\n",
    "import numpy as np\n",
    "import pandas as pd\n",
    "import pytorch_model_summary as pms\n",
    "from PIL import Image\n",
    "from autokeras.utils import pickle_from_file\n",
    "from numpy.random.mtrand import RandomState\n",
    "from sklearn.datasets import load_digits\n",
    "from sklearn.metrics import accuracy_score\n",
    "from sklearn.model_selection import train_test_split\n",
    "\n",
    "%matplotlib inline\n",
    "\n",
    "seed = 42\n",
    "time_limit_mins = 1\n",
    "err_param_name = \"max_angle\""
   ]
  },
  {
   "cell_type": "code",
   "execution_count": 52,
   "outputs": [],
   "source": [
    "np.random.seed(seed)\n",
    "\n",
    "x, y = load_digits(return_X_y=True)\n",
    "# x = x.astype(np.uint8)\n",
    "x = x.astype(np.uint8)[:200]\n",
    "# y = y.astype(np.uint8)\n",
    "y = y.astype(np.uint8)[:200]\n",
    "x_train, x_test, y_train, y_test = train_test_split(x, y, test_size=.25, random_state=RandomState(seed))\n",
    "s = np.sqrt(len(x_train[0])).astype(int)"
   ],
   "metadata": {
    "collapsed": false,
    "pycharm": {
     "name": "#%%\n",
     "is_executing": false
    }
   }
  },
  {
   "cell_type": "code",
   "execution_count": 53,
   "outputs": [
    {
     "data": {
      "text/plain": "<Figure size 432x288 with 1 Axes>",
      "image/png": "[encoded data removed]"
     },
     "metadata": {
      "needs_background": "light"
     },
     "output_type": "display_data"
    },
    {
     "data": {
      "text/plain": "<Figure size 432x288 with 1 Axes>",
      "image/png": "[encoded data removed]"
     },
     "metadata": {
      "needs_background": "light"
     },
     "output_type": "display_data"
    }
   ],
   "source": [
    "np.random.seed(seed)\n",
    "\n",
    "def show_img(arr):\n",
    "    plt.imshow(arr.reshape(s, s), cmap=\"gray_r\")\n",
    "    plt.show()\n",
    "\n",
    "def rotate(arr, angle):\n",
    "    arr = arr.reshape(s, s).astype(float)\n",
    "    angle = RandomState(seed).uniform(-angle, angle)\n",
    "    img = Image.fromarray(arr).rotate(angle)\n",
    "    arr = np.asarray(img)\n",
    "    arr = np.round(arr).flatten().astype(np.uint8)\n",
    "    return arr\n",
    "\n",
    "show_img(x_train[1])\n",
    "show_img(rotate(x_train[1], 180))"
   ],
   "metadata": {
    "collapsed": false,
    "pycharm": {
     "name": "#%%\n",
     "is_executing": false
    }
   }
  },
  {
   "cell_type": "code",
   "execution_count": 54,
   "outputs": [
    {
     "data": {
      "text/plain": "<Figure size 432x288 with 1 Axes>",
      "image/png": "[encoded data removed]"
     },
     "metadata": {
      "needs_background": "light"
     },
     "output_type": "display_data"
    },
    {
     "data": {
      "text/plain": "<Figure size 432x288 with 1 Axes>",
      "image/png": "[encoded data removed]"
     },
     "metadata": {
      "needs_background": "light"
     },
     "output_type": "display_data"
    }
   ],
   "source": [
    "np.random.seed(seed)\n",
    "\n",
    "err_params = np.linspace(0, 180, num=1)\n",
    "err_x_train_list = [np.apply_along_axis(rotate, 1, x_train, ep) for ep in err_params]\n",
    "err_x_test_list = [np.apply_along_axis(rotate, 1, x_test, ep) for ep in err_params]\n",
    "\n",
    "show_img(err_x_train_list[0][1])\n",
    "show_img(err_x_test_list[0][1])"
   ],
   "metadata": {
    "collapsed": false,
    "pycharm": {
     "name": "#%%\n",
     "is_executing": false
    }
   }
  },
  {
   "cell_type": "code",
   "execution_count": 55,
   "outputs": [
    {
     "data": {
      "text/plain": "   train_max_angle  test_max_angle  accuracy  time_train  \\\n0              0.0             0.0      0.74         NaN   \n\n                                       model_summary  \n0  ----------------------------------------------...  ",
      "text/html": "<div>\n<style scoped>\n    .dataframe tbody tr th:only-of-type {\n        vertical-align: middle;\n    }\n\n    .dataframe tbody tr th {\n        vertical-align: top;\n    }\n\n    .dataframe thead th {\n        text-align: right;\n    }\n</style>\n<table border=\"1\" class=\"dataframe\">\n  <thead>\n    <tr style=\"text-align: right;\">\n      <th></th>\n      <th>train_max_angle</th>\n      <th>test_max_angle</th>\n      <th>accuracy</th>\n      <th>time_train</th>\n      <th>model_summary</th>\n    </tr>\n  </thead>\n  <tbody>\n    <tr>\n      <th>0</th>\n      <td>0.0</td>\n      <td>0.0</td>\n      <td>0.74</td>\n      <td>NaN</td>\n      <td>----------------------------------------------...</td>\n    </tr>\n  </tbody>\n</table>\n</div>"
     },
     "metadata": {},
     "output_type": "execute_result",
     "execution_count": 55
    }
   ],
   "source": [
    "np.random.seed(seed)\n",
    "\n",
    "def get_fitted_model(x_train, y_train, err_param_idx_train):\n",
    "    model_name = f\"autokeras_{err_param_name}_{np.round(err_params[err_param_idx_train], 3)}_time_limit_mins_\" \\\n",
    "                 f\"{time_limit_mins}\"\n",
    "    model_path = f\"models/model_{model_name}.pkl\"\n",
    "    summary_path = f\"models/summary_{model_name}.pkl\"\n",
    "    \n",
    "    if Path(model_path).is_file():\n",
    "        with open(summary_path, \"rb\") as f:\n",
    "            return pickle_from_file(model_path), pickle.load(f), np.nan\n",
    "\n",
    "    clf = ak.ImageClassifier(augment=False, path=\"temp\", verbose=True)\n",
    "    x_train = x_train.reshape((len(x_train), s, s, 1))\n",
    "    time_train = time.time()\n",
    "    # clf.fit(x_train, y_train, time_limit=60 * time_limit_mins)\n",
    "    clf.fit(x_train, y_train, time_limit=20)\n",
    "    time_train = time.time() - time_train\n",
    "    clf.export_autokeras_model(model_path)\n",
    "    \n",
    "    model_summary = pms.summary(clf.cnn.best_model.produce_model(), torch.zeros(1, 1, len(x_train), s ** 2))\n",
    "    with open(summary_path, \"wb\") as f:\n",
    "        pickle.dump(model_summary, f)\n",
    "    \n",
    "    return clf, model_summary, time_train\n",
    "\n",
    "def get_accuracy(clf, x, y):\n",
    "    x = x.reshape((len(x), s, s, 1))\n",
    "    y_pred = clf.predict(x)\n",
    "    return np.round(accuracy_score(y_true=y, y_pred=y_pred), 3)\n",
    "\n",
    "scores = []\n",
    "for err_param_idx_train, err_x_train in enumerate(err_x_train_list):\n",
    "    clf, model_summary, time_train = get_fitted_model(err_x_train, y_train, err_param_idx_train)\n",
    "    for err_param_idx_test, err_x_test in enumerate(err_x_test_list):\n",
    "        scores.append({\n",
    "            f\"train_{err_param_name}\": np.round(err_params[err_param_idx_train]),\n",
    "            f\"test_{err_param_name}\": np.round(err_params[err_param_idx_test]),\n",
    "            \"accuracy\": get_accuracy(clf, err_x_test, y_test),\n",
    "            \"time_train\": time_train,\n",
    "            \"model_summary\": model_summary\n",
    "        })\n",
    "\n",
    "scores_df = pd.DataFrame(scores)\n",
    "scores_df"
   ],
   "metadata": {
    "collapsed": false,
    "pycharm": {
     "name": "#%%\n",
     "is_executing": false
    }
   }
  }
 ],
 "metadata": {
  "kernelspec": {
   "display_name": "Python 3",
   "language": "python",
   "name": "python3"
  },
  "language_info": {
   "codemirror_mode": {
    "name": "ipython",
    "version": 2
   },
   "file_extension": ".py",
   "mimetype": "text/x-python",
   "name": "python",
   "nbconvert_exporter": "python",
   "pygments_lexer": "ipython2",
   "version": "2.7.6"
  },
  "pycharm": {
   "stem_cell": {
    "cell_type": "raw",
    "source": [],
    "metadata": {
     "collapsed": false
    }
   }
  }
 },
 "nbformat": 4,
 "nbformat_minor": 0
}