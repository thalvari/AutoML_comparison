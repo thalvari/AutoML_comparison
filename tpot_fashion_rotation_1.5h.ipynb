{
 "cells": [
  {
   "cell_type": "code",
   "execution_count": 1,
   "metadata": {
    "collapsed": true,
    "papermill": {
     "duration": 2.37922,
     "end_time": "2020-03-01T18:06:55.972853",
     "exception": false,
     "start_time": "2020-03-01T18:06:53.593633",
     "status": "completed"
    },
    "pycharm": {
     "is_executing": false
    },
    "tags": []
   },
   "outputs": [
    {
     "name": "stderr",
     "output_type": "stream",
     "text": [
      "Using TensorFlow backend.\n"
     ]
    },
    {
     "name": "stdout",
     "output_type": "stream",
     "text": [
      "Better speed can be achieved with apex installed from https://www.github.com/nvidia/apex.\n"
     ]
    },
    {
     "name": "stdout",
     "output_type": "stream",
     "text": [
      "GPU count: 0"
     ]
    },
    {
     "name": "stdout",
     "output_type": "stream",
     "text": [
      "\n"
     ]
    }
   ],
   "source": [
    "import pickle\n",
    "import random as rn\n",
    "import time\n",
    "import warnings\n",
    "warnings.filterwarnings(\"ignore\")\n",
    "from abc import ABC, abstractmethod\n",
    "from datetime import timedelta\n",
    "from pathlib import Path\n",
    "from tempfile import mkdtemp\n",
    "\n",
    "import autokeras as ak\n",
    "import h2o\n",
    "import matplotlib.pyplot as plt\n",
    "import numpy as np\n",
    "import pandas as pd\n",
    "import pytorch_model_summary as pms\n",
    "import tensorflow as tf\n",
    "import torch\n",
    "from PIL import Image\n",
    "from autokeras.utils import pickle_from_file\n",
    "from h2o.automl import H2OAutoML\n",
    "from keras.datasets import fashion_mnist\n",
    "from numpy.random.mtrand import RandomState\n",
    "from sklearn.datasets import load_digits\n",
    "from sklearn.metrics import accuracy_score\n",
    "from sklearn.model_selection import train_test_split\n",
    "from tpot import TPOTClassifier\n",
    "\n",
    "gpu_count = torch.cuda.device_count()\n",
    "print(f\"GPU count: {gpu_count}\")\n",
    "if gpu_count > 0:\n",
    "    for i in range(gpu_count):\n",
    "        print(f\"{i}. {torch.cuda.get_device_name(i)}\")\n",
    "\n",
    "%matplotlib inline"
   ]
  },
  {
   "cell_type": "code",
   "execution_count": 2,
   "metadata": {
    "collapsed": false,
    "papermill": {
     "duration": 0.010009,
     "end_time": "2020-03-01T18:06:55.988867",
     "exception": false,
     "start_time": "2020-03-01T18:06:55.978858",
     "status": "completed"
    },
    "pycharm": {
     "is_executing": false,
     "name": "#%%\n"
    },
    "tags": []
   },
   "outputs": [],
   "source": [
    "seed = 42\n",
    "n_threads = 40\n",
    "# dataset_name = \"digits\"\n",
    "dataset_name = \"fashion\"\n",
    "n_images = 0\n",
    "# err_source = \"noise\"\n",
    "err_source = \"rotation\"\n",
    "# err_params = np.round(np.linspace(0, 16, num=6), 3)\n",
    "# err_params = np.round(np.linspace(0, 255, num=6), 3)\n",
    "err_params = np.linspace(0, 180, num=6)\n",
    "time_limit_mins = 90\n",
    "# model_name = \"autokeras\"\n",
    "# model_name = \"h2o\"\n",
    "model_name = \"tpot\"\n",
    "augment = False\n",
    "gpu = False\n",
    "\n",
    "model_full_name = model_name\n",
    "if augment:\n",
    "    model_full_name += \"_aug\"\n",
    "if gpu:\n",
    "    model_full_name += \"_gpu\""
   ]
  },
  {
   "cell_type": "code",
   "execution_count": 3,
   "metadata": {
    "collapsed": false,
    "papermill": {
     "duration": 0.072071,
     "end_time": "2020-03-01T18:06:56.066943",
     "exception": false,
     "start_time": "2020-03-01T18:06:55.994872",
     "status": "completed"
    },
    "pycharm": {
     "is_executing": false,
     "name": "#%%\n"
    },
    "tags": []
   },
   "outputs": [],
   "source": [
    "rn.seed(seed)\n",
    "np.random.seed(seed)\n",
    "\n",
    "if dataset_name == \"digits\":\n",
    "    x, y = load_digits(return_X_y=True)\n",
    "    y = y.astype(np.uint8)\n",
    "    x = x.astype(np.uint8)\n",
    "    x_train, x_test, y_train, y_test = train_test_split(x, y, test_size=.25, random_state=RandomState(seed))\n",
    "    s = np.sqrt(len(x[0])).astype(int)\n",
    "else:\n",
    "    (x_train, y_train), (x_test, y_test) = fashion_mnist.load_data()\n",
    "    s = x_train.shape[1]\n",
    "    x_train = x_train.reshape((len(x_train), s ** 2))\n",
    "    x_test = x_test.reshape((len(x_test), s ** 2))\n",
    "\n",
    "if n_images != 0:\n",
    "    x_train = x_train[:n_images]\n",
    "    y_train = y_train[:n_images]"
   ]
  },
  {
   "cell_type": "code",
   "execution_count": 4,
   "metadata": {
    "collapsed": false,
    "papermill": {
     "duration": 0.262243,
     "end_time": "2020-03-01T18:06:56.335191",
     "exception": false,
     "start_time": "2020-03-01T18:06:56.072948",
     "status": "completed"
    },
    "pycharm": {
     "is_executing": false,
     "name": "#%%\n"
    },
    "tags": []
   },
   "outputs": [
    {
     "data": {
      "image/png": "[encoded data removed]",
      "text/plain": [
       "<Figure size 432x288 with 1 Axes>"
      ]
     },
     "metadata": {
      "needs_background": "light"
     },
     "output_type": "display_data"
    },
    {
     "data": {
      "image/png": "[encoded data removed]",
      "text/plain": [
       "<Figure size 432x288 with 1 Axes>"
      ]
     },
     "metadata": {
      "needs_background": "light"
     },
     "output_type": "display_data"
    }
   ],
   "source": [
    "rn.seed(seed)\n",
    "np.random.seed(seed)\n",
    "random_state = RandomState(seed)\n",
    "\n",
    "def show_images(arr):\n",
    "    plt.imshow(arr.reshape(s, s), cmap=\"gray_r\")\n",
    "    plt.show()\n",
    "\n",
    "def add_noise(arr, std):\n",
    "    arr = arr.astype(float)\n",
    "    arr += random_state.normal(scale=std, size=arr.shape)\n",
    "    arr = np.clip(arr, 0, np.amax(x_test))\n",
    "    arr = np.round(arr).astype(np.uint8)\n",
    "    return arr\n",
    "\n",
    "def rotate(arr, angle):\n",
    "    arr = arr.reshape(s, s).astype(float)\n",
    "    angle = random_state.uniform(-angle, angle)\n",
    "    img = Image.fromarray(arr).rotate(angle)\n",
    "    arr = np.asarray(img)\n",
    "    arr = np.round(arr).flatten().astype(np.uint8)\n",
    "    return arr\n",
    "\n",
    "if err_source == \"noise\":\n",
    "    error_generator = add_noise\n",
    "    err_param_name = \"std\"\n",
    "else:\n",
    "    error_generator = rotate\n",
    "    err_param_name = \"max_angle\"\n",
    "\n",
    "err_x_train_list = [np.apply_along_axis(error_generator, 1, x_train, ep) for ep in err_params]\n",
    "err_x_test_list = [np.apply_along_axis(error_generator, 1, x_test, ep) for ep in err_params]\n",
    "\n",
    "show_images(x_train[1])\n",
    "show_images(error_generator(x_train[1], err_params[-1]))"
   ]
  },
  {
   "cell_type": "code",
   "execution_count": 5,
   "metadata": {
    "collapsed": false,
    "papermill": {
     "duration": 0.033031,
     "end_time": "2020-03-01T18:06:56.374226",
     "exception": false,
     "start_time": "2020-03-01T18:06:56.341195",
     "status": "completed"
    },
    "pycharm": {
     "is_executing": false,
     "name": "#%%\n"
    },
    "tags": []
   },
   "outputs": [],
   "source": [
    "rn.seed(seed)\n",
    "np.random.seed(seed)\n",
    "tf.random.set_seed(seed)\n",
    "torch.manual_seed(seed)\n",
    "\n",
    "class AbstractModel(ABC):\n",
    "    \n",
    "    model = None\n",
    "    time_train = np.nan\n",
    "    \n",
    "    def __init__(self, err_param_idx_train):\n",
    "        self.err_param_idx_train = err_param_idx_train\n",
    "\n",
    "    def prepare(self, x_train, y_train):\n",
    "        model_description = f\"{model_full_name}_{err_param_name}_{np.round(err_params[self.err_param_idx_train], 3)}_\" \\\n",
    "                            f\"time_limit_mins_{time_limit_mins}\"\n",
    "        model_path_prefix = f\"models_{dataset_name}/model_{model_description}\"\n",
    "        summary_path = f\"models_{dataset_name}/summary_{model_description}.txt\"\n",
    "\n",
    "        if Path(summary_path).is_file():\n",
    "            self.load(model_path_prefix)\n",
    "        else:\n",
    "            self.fit(x_train, y_train)\n",
    "            self.save(model_path_prefix)\n",
    "            summary = self.get_summary(len(x_train))\n",
    "            with open(summary_path, \"w\") as f:\n",
    "                print(f\"Actual train time: {str(self.time_train)}\\n\\n{summary}\", file=f)\n",
    "\n",
    "    @abstractmethod\n",
    "    def fit(self, x_train, y_train):\n",
    "        pass\n",
    "    \n",
    "    @abstractmethod\n",
    "    def save(self, model_path_prefix):\n",
    "        pass\n",
    "    \n",
    "    @abstractmethod\n",
    "    def load(self, model_path_prefix):\n",
    "        pass\n",
    "        \n",
    "    @abstractmethod    \n",
    "    def get_summary(self, *args):\n",
    "        pass\n",
    "    \n",
    "    @abstractmethod\n",
    "    def predict(self, x_test, y_test):\n",
    "        pass\n",
    "\n",
    "    @abstractmethod\n",
    "    def shutdown(self):\n",
    "        pass\n",
    "\n",
    "class AutoKerasModel(AbstractModel):\n",
    "    \n",
    "    def __init__(self, err_param_idx_train):\n",
    "        super().__init__(err_param_idx_train)\n",
    "\n",
    "    def fit(self, x_train, y_train):\n",
    "        if augment:\n",
    "            self.model = ak.ImageClassifier(augment=True, path=mkdtemp(dir=\"temp\"), verbose=True)\n",
    "        else:\n",
    "            self.model = ak.ImageClassifier(augment=False, path=mkdtemp(dir=\"temp\"), verbose=True)\n",
    "        x_train = x_train.reshape((len(x_train), s, s, 1))\n",
    "        time_start = time.time()\n",
    "        self.model.fit(x_train, y_train, time_limit=60 * time_limit_mins)\n",
    "        self.time_train = timedelta(seconds=np.round(time.time() - time_start))\n",
    "    \n",
    "    def load(self, model_path_prefix):\n",
    "        self.model = pickle_from_file(f\"{model_path_prefix}.pkl\")\n",
    "    \n",
    "    def save(self, model_path_prefix):\n",
    "        self.model.export_autokeras_model(f\"{model_path_prefix}.pkl\")\n",
    "        \n",
    "    def get_summary(self, n_train):\n",
    "        return pms.summary(self.model.cnn.best_model.produce_model(), torch.zeros(1, 1, n_train, s ** 2))\n",
    "    \n",
    "    def predict(self, x_test, y_test):\n",
    "        x_test = x_test.reshape((len(x_test), s, s, 1))\n",
    "        y_pred = self.model.predict(x_test)\n",
    "        return np.round(accuracy_score(y_true=y_test, y_pred=y_pred), 3)\n",
    "    \n",
    "    def shutdown(self):\n",
    "        pass\n",
    "\n",
    "class H2OAutoMLModel(AbstractModel):\n",
    "\n",
    "    def __init__(self, err_param_idx_train):\n",
    "        super().__init__(err_param_idx_train)\n",
    "        h2o.init(name=f\"#{rn.SystemRandom().randint(1, 2 ** 20)}\", nthreads=n_threads)\n",
    "        # h2o.no_progress()\n",
    "    \n",
    "    def fit(self, x_train, y_train):\n",
    "        training_frame = h2o.H2OFrame(np.concatenate((x_train, y_train.reshape(-1, 1)), axis=1))\n",
    "        x_cols = np.array(training_frame.columns)[:-1].tolist()\n",
    "        y_cols = np.array(training_frame.columns)[-1].tolist()\n",
    "        training_frame[y_cols] = training_frame[y_cols].asfactor()\n",
    "        self.model = H2OAutoML(\n",
    "            max_runtime_secs=60 * time_limit_mins, exclude_algos=[\"XGBoost\"], seed=seed, verbosity=\"info\"\n",
    "        )\n",
    "        time_start = time.time()\n",
    "        self.model.train(x=x_cols, y=y_cols, training_frame=training_frame)\n",
    "        self.time_train = timedelta(seconds=np.round(time.time() - time_start))\n",
    "    \n",
    "    def load(self, model_path_prefix):\n",
    "        self.model = h2o.load_model(model_path_prefix)\n",
    "    \n",
    "    def save(self, model_path_prefix):\n",
    "        temp_path = h2o.save_model(model=self.model.leader, path=f\"models_{dataset_name}\", force=True)\n",
    "        source = Path(temp_path)\n",
    "        target = Path(model_path_prefix)\n",
    "        source.rename(target)\n",
    "\n",
    "    def get_summary(self, n_train):\n",
    "        leader_params = self.model.leader.params\n",
    "        summary = \"model_id:\\n\" + leader_params[\"model_id\"][\"actual\"][\"name\"] + \"\\n\\n\"\n",
    "        summary += \"base_models:\"\n",
    "        if \"base_models\" in leader_params:\n",
    "            for base_model in leader_params[\"base_models\"][\"actual\"]:\n",
    "                summary += \"\\n\" + base_model[\"name\"]\n",
    "        return summary\n",
    "    \n",
    "    def predict(self, x_test, y_test):\n",
    "        testing_frame = h2o.H2OFrame(np.concatenate((x_test, y_test.reshape(-1, 1)), axis=1))\n",
    "        y_cols = np.array(testing_frame.columns)[-1].tolist()\n",
    "        testing_frame[y_cols] = testing_frame[y_cols].asfactor()\n",
    "        y_pred = self.model.predict(testing_frame).as_data_frame(header=False)[\"predict\"].values.astype(int)\n",
    "        return np.round(accuracy_score(y_true=y_test, y_pred=y_pred), 3)\n",
    "\n",
    "    def shutdown(self):\n",
    "        h2o.cluster().shutdown()\n",
    "\n",
    "class TPOTModel(AbstractModel):\n",
    "\n",
    "    def __init__(self, err_param_idx_train):\n",
    "        super().__init__(err_param_idx_train)\n",
    "    \n",
    "    def fit(self, x_train, y_train):\n",
    "        self.model = TPOTClassifier(\n",
    "            max_time_mins=time_limit_mins, max_eval_time_mins=time_limit_mins, n_jobs=n_threads, random_state=seed,\n",
    "            verbosity=2\n",
    "        )\n",
    "        time_start = time.time()\n",
    "        self.model.fit(x_train, y_train)\n",
    "        self.time_train = timedelta(seconds=np.round(time.time() - time_start))\n",
    "    \n",
    "    def load(self, model_path_prefix):\n",
    "        with open(f\"{model_path_prefix}.pkl\", \"rb\") as f:\n",
    "            self.model = pickle.load(f)\n",
    "    \n",
    "    def save(self, model_path_prefix):\n",
    "        with open(f\"{model_path_prefix}.pkl\", \"wb\") as f:\n",
    "            pickle.dump(self.model.fitted_pipeline_, f)\n",
    "\n",
    "    def get_summary(self, n_train):\n",
    "        summary = \"Steps:\"\n",
    "        for i, step in enumerate(self.model.fitted_pipeline_.steps):\n",
    "            summary += f\"\\n{i}. {str(step[1])}\"\n",
    "        return summary\n",
    "    \n",
    "    def predict(self, x_test, y_test):\n",
    "        return round(self.model.score(x_test, y_test), 3)\n",
    "\n",
    "    def shutdown(self):\n",
    "        pass"
   ]
  },
  {
   "cell_type": "code",
   "execution_count": 6,
   "metadata": {
    "collapsed": false,
    "papermill": {
     "duration": 0.052047,
     "end_time": "2020-03-01T18:06:56.433279",
     "exception": false,
     "start_time": "2020-03-01T18:06:56.381232",
     "status": "completed"
    },
    "pycharm": {
     "is_executing": false,
     "name": "#%%\n"
    },
    "tags": []
   },
   "outputs": [],
   "source": [
    "rn.seed(seed)\n",
    "np.random.seed(seed)\n",
    "tf.random.set_seed(seed)\n",
    "torch.manual_seed(seed)\n",
    "\n",
    "scores = []\n",
    "for err_param_idx_train, err_x_train in enumerate(err_x_train_list):\n",
    "    if model_name == \"autokeras\":\n",
    "        model = AutoKerasModel(err_param_idx_train)\n",
    "    elif model_name == \"h2o\":\n",
    "        model = H2OAutoMLModel(err_param_idx_train)\n",
    "    elif model_name == \"tpot\":\n",
    "        model = TPOTModel(err_param_idx_train)\n",
    "    else:\n",
    "        model = None\n",
    "    model.prepare(err_x_train, y_train)\n",
    "    for err_param_idx_test, err_x_test in enumerate(err_x_test_list):\n",
    "        scores.append({\n",
    "            f\"train_{err_param_name}\": np.round(err_params[err_param_idx_train]),\n",
    "            f\"test_{err_param_name}\": np.round(err_params[err_param_idx_test]),\n",
    "            \"accuracy\": model.predict(err_x_test, y_test),\n",
    "        })\n",
    "    model.shutdown()"
   ]
  },
  {
   "cell_type": "code",
   "execution_count": 7,
   "metadata": {
    "collapsed": false,
    "papermill": {
     "duration": 0.019017,
     "end_time": "2020-03-01T18:06:56.459302",
     "exception": false,
     "start_time": "2020-03-01T18:06:56.440285",
     "status": "completed"
    },
    "pycharm": {
     "is_executing": false,
     "name": "#%%\n"
    },
    "tags": []
   },
   "outputs": [
    {
     "data": {
      "text/html": [
       "<div>\n",
       "<style scoped>\n",
       "    .dataframe tbody tr th:only-of-type {\n",
       "        vertical-align: middle;\n",
       "    }\n",
       "\n",
       "    .dataframe tbody tr th {\n",
       "        vertical-align: top;\n",
       "    }\n",
       "\n",
       "    .dataframe thead th {\n",
       "        text-align: right;\n",
       "    }\n",
       "</style>\n",
       "<table border=\"1\" class=\"dataframe\">\n",
       "  <thead>\n",
       "    <tr style=\"text-align: right;\">\n",
       "      <th></th>\n",
       "      <th>train_max_angle</th>\n",
       "      <th>test_max_angle</th>\n",
       "      <th>accuracy</th>\n",
       "    </tr>\n",
       "  </thead>\n",
       "  <tbody>\n",
       "    <tr>\n",
       "      <th>0</th>\n",
       "      <td>0.0</td>\n",
       "      <td>0.0</td>\n",
       "      <td>0.982</td>\n",
       "    </tr>\n",
       "  </tbody>\n",
       "</table>\n",
       "</div>"
      ],
      "text/plain": [
       "   train_max_angle  test_max_angle  accuracy\n",
       "0              0.0             0.0     0.982"
      ]
     },
     "execution_count": 7,
     "metadata": {},
     "output_type": "execute_result"
    }
   ],
   "source": [
    "scores_df = pd.DataFrame(scores)\n",
    "scores_path = f\"scores_{dataset_name}/{model_full_name}_{err_source}_time_limit_mins_{time_limit_mins}.pkl\"\n",
    "scores_df.to_pickle(scores_path)\n",
    "scores_df"
   ]
  }
 ],
 "metadata": {
  "kernelspec": {
   "display_name": "Python 3",
   "language": "python",
   "name": "python3"
  },
  "language_info": {
   "codemirror_mode": {
    "name": "ipython",
    "version": 3
   },
   "file_extension": ".py",
   "mimetype": "text/x-python",
   "name": "python",
   "nbconvert_exporter": "python",
   "pygments_lexer": "ipython3",
   "version": "3.7.6"
  },
  "papermill": {
   "duration": 3.826569,
   "end_time": "2020-03-01T18:06:56.469338",
   "environment_variables": {},
   "exception": null,
   "input_path": "test.ipynb",
   "output_path": "test.ipynb",
   "parameters": {},
   "start_time": "2020-03-01T18:06:52.642769",
   "version": "2.0.0"
  },
  "pycharm": {
   "stem_cell": {
    "cell_type": "raw",
    "source": [],
    "metadata": {
     "collapsed": false
    }
   }
  },
  "widgets": {
   "application/vnd.jupyter.widget-state+json": {
    "state": {
     "100313fb68a14ed9a9cab1071d0cbb05": {
      "model_module": "@jupyter-widgets/controls",
      "model_module_version": "1.5.0",
      "model_name": "HTMLModel",
      "state": {
       "_dom_classes": [],
       "_model_module": "@jupyter-widgets/controls",
       "_model_module_version": "1.5.0",
       "_model_name": "HTMLModel",
       "_view_count": null,
       "_view_module": "@jupyter-widgets/controls",
       "_view_module_version": "1.5.0",
       "_view_name": "HTMLView",
       "description": "",
       "description_tooltip": null,
       "layout": "IPY_MODEL_44885b445a3d4d77af1ad41ac9bc2ce1",
       "placeholder": "​",
       "style": "IPY_MODEL_b94c97ee02ec4e8fb3f4f212ad260043",
       "value": " 128/200 [02:01&lt;08:35,  7.16s/pipeline]"
      }
     },
     "1fef257f26954640a5bbb35525e8341c": {
      "model_module": "@jupyter-widgets/base",
      "model_module_version": "1.2.0",
      "model_name": "LayoutModel",
      "state": {
       "_model_module": "@jupyter-widgets/base",
       "_model_module_version": "1.2.0",
       "_model_name": "LayoutModel",
       "_view_count": null,
       "_view_module": "@jupyter-widgets/base",
       "_view_module_version": "1.2.0",
       "_view_name": "LayoutView",
       "align_content": null,
       "align_items": null,
       "align_self": null,
       "border": null,
       "bottom": null,
       "display": null,
       "flex": null,
       "flex_flow": null,
       "grid_area": null,
       "grid_auto_columns": null,
       "grid_auto_flow": null,
       "grid_auto_rows": null,
       "grid_column": null,
       "grid_gap": null,
       "grid_row": null,
       "grid_template_areas": null,
       "grid_template_columns": null,
       "grid_template_rows": null,
       "height": null,
       "justify_content": null,
       "justify_items": null,
       "left": null,
       "margin": null,
       "max_height": null,
       "max_width": null,
       "min_height": null,
       "min_width": null,
       "object_fit": null,
       "object_position": null,
       "order": null,
       "overflow": null,
       "overflow_x": null,
       "overflow_y": null,
       "padding": null,
       "right": null,
       "top": null,
       "visibility": null,
       "width": null
      }
     },
     "44885b445a3d4d77af1ad41ac9bc2ce1": {
      "model_module": "@jupyter-widgets/base",
      "model_module_version": "1.2.0",
      "model_name": "LayoutModel",
      "state": {
       "_model_module": "@jupyter-widgets/base",
       "_model_module_version": "1.2.0",
       "_model_name": "LayoutModel",
       "_view_count": null,
       "_view_module": "@jupyter-widgets/base",
       "_view_module_version": "1.2.0",
       "_view_name": "LayoutView",
       "align_content": null,
       "align_items": null,
       "align_self": null,
       "border": null,
       "bottom": null,
       "display": null,
       "flex": null,
       "flex_flow": null,
       "grid_area": null,
       "grid_auto_columns": null,
       "grid_auto_flow": null,
       "grid_auto_rows": null,
       "grid_column": null,
       "grid_gap": null,
       "grid_row": null,
       "grid_template_areas": null,
       "grid_template_columns": null,
       "grid_template_rows": null,
       "height": null,
       "justify_content": null,
       "justify_items": null,
       "left": null,
       "margin": null,
       "max_height": null,
       "max_width": null,
       "min_height": null,
       "min_width": null,
       "object_fit": null,
       "object_position": null,
       "order": null,
       "overflow": null,
       "overflow_x": null,
       "overflow_y": null,
       "padding": null,
       "right": null,
       "top": null,
       "visibility": null,
       "width": null
      }
     },
     "4e604453aa63453996d3f23fff323b84": {
      "model_module": "@jupyter-widgets/base",
      "model_module_version": "1.2.0",
      "model_name": "LayoutModel",
      "state": {
       "_model_module": "@jupyter-widgets/base",
       "_model_module_version": "1.2.0",
       "_model_name": "LayoutModel",
       "_view_count": null,
       "_view_module": "@jupyter-widgets/base",
       "_view_module_version": "1.2.0",
       "_view_name": "LayoutView",
       "align_content": null,
       "align_items": null,
       "align_self": null,
       "border": null,
       "bottom": null,
       "display": null,
       "flex": null,
       "flex_flow": null,
       "grid_area": null,
       "grid_auto_columns": null,
       "grid_auto_flow": null,
       "grid_auto_rows": null,
       "grid_column": null,
       "grid_gap": null,
       "grid_row": null,
       "grid_template_areas": null,
       "grid_template_columns": null,
       "grid_template_rows": null,
       "height": null,
       "justify_content": null,
       "justify_items": null,
       "left": null,
       "margin": null,
       "max_height": null,
       "max_width": null,
       "min_height": null,
       "min_width": null,
       "object_fit": null,
       "object_position": null,
       "order": null,
       "overflow": null,
       "overflow_x": null,
       "overflow_y": null,
       "padding": null,
       "right": null,
       "top": null,
       "visibility": null,
       "width": null
      }
     },
     "b94c97ee02ec4e8fb3f4f212ad260043": {
      "model_module": "@jupyter-widgets/controls",
      "model_module_version": "1.5.0",
      "model_name": "DescriptionStyleModel",
      "state": {
       "_model_module": "@jupyter-widgets/controls",
       "_model_module_version": "1.5.0",
       "_model_name": "DescriptionStyleModel",
       "_view_count": null,
       "_view_module": "@jupyter-widgets/base",
       "_view_module_version": "1.2.0",
       "_view_name": "StyleView",
       "description_width": ""
      }
     },
     "c34e3ea15bd54ead8762814f2a341765": {
      "model_module": "@jupyter-widgets/controls",
      "model_module_version": "1.5.0",
      "model_name": "HBoxModel",
      "state": {
       "_dom_classes": [],
       "_model_module": "@jupyter-widgets/controls",
       "_model_module_version": "1.5.0",
       "_model_name": "HBoxModel",
       "_view_count": null,
       "_view_module": "@jupyter-widgets/controls",
       "_view_module_version": "1.5.0",
       "_view_name": "HBoxView",
       "box_style": "",
       "children": [
        "IPY_MODEL_d767ff64384c4e3f98ce5171b472f0cc",
        "IPY_MODEL_100313fb68a14ed9a9cab1071d0cbb05"
       ],
       "layout": "IPY_MODEL_1fef257f26954640a5bbb35525e8341c"
      }
     },
     "d767ff64384c4e3f98ce5171b472f0cc": {
      "model_module": "@jupyter-widgets/controls",
      "model_module_version": "1.5.0",
      "model_name": "FloatProgressModel",
      "state": {
       "_dom_classes": [],
       "_model_module": "@jupyter-widgets/controls",
       "_model_module_version": "1.5.0",
       "_model_name": "FloatProgressModel",
       "_view_count": null,
       "_view_module": "@jupyter-widgets/controls",
       "_view_module_version": "1.5.0",
       "_view_name": "ProgressView",
       "bar_style": "danger",
       "description": "Optimization Progress:  64%",
       "description_tooltip": null,
       "layout": "IPY_MODEL_4e604453aa63453996d3f23fff323b84",
       "max": 100.0,
       "min": 0.0,
       "orientation": "horizontal",
       "style": "IPY_MODEL_ec6bb9f7f13d4a2cb0ec10975c991209",
       "value": 100.0
      }
     },
     "ec6bb9f7f13d4a2cb0ec10975c991209": {
      "model_module": "@jupyter-widgets/controls",
      "model_module_version": "1.5.0",
      "model_name": "ProgressStyleModel",
      "state": {
       "_model_module": "@jupyter-widgets/controls",
       "_model_module_version": "1.5.0",
       "_model_name": "ProgressStyleModel",
       "_view_count": null,
       "_view_module": "@jupyter-widgets/base",
       "_view_module_version": "1.2.0",
       "_view_name": "StyleView",
       "bar_color": null,
       "description_width": "initial"
      }
     }
    },
    "version_major": 2,
    "version_minor": 0
   }
  }
 },
 "nbformat": 4,
 "nbformat_minor": 0
}