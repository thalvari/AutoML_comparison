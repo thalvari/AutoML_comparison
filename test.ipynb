{
 "cells": [
  {
   "cell_type": "code",
   "execution_count": 27,
   "metadata": {
    "pycharm": {
     "is_executing": false
    }
   },
   "outputs": [
    {
     "name": "stdout",
     "text": [
      "GPU count: 0\n"
     ],
     "output_type": "stream"
    }
   ],
   "source": [
    "import pickle\n",
    "import random as rn\n",
    "import time\n",
    "import warnings\n",
    "warnings.filterwarnings(\"ignore\")\n",
    "from abc import ABC, abstractmethod\n",
    "from datetime import timedelta\n",
    "from pathlib import Path\n",
    "from tempfile import mkdtemp\n",
    "\n",
    "import autokeras as ak\n",
    "import h2o\n",
    "import matplotlib.pyplot as plt\n",
    "import numpy as np\n",
    "import pandas as pd\n",
    "import pytorch_model_summary as pms\n",
    "import tensorflow as tf\n",
    "import torch\n",
    "from PIL import Image\n",
    "from autokeras.utils import pickle_from_file\n",
    "from h2o.automl import H2OAutoML\n",
    "from keras.datasets import fashion_mnist\n",
    "from numpy.random.mtrand import RandomState\n",
    "from sklearn.datasets import load_digits\n",
    "from sklearn.metrics import accuracy_score\n",
    "from sklearn.model_selection import train_test_split\n",
    "from tpot import TPOTClassifier\n",
    "\n",
    "gpu_count = torch.cuda.device_count()\n",
    "print(f\"GPU count: {gpu_count}\")\n",
    "if gpu_count > 0:\n",
    "    for i in range(gpu_count):\n",
    "        print(f\"{i}. {torch.cuda.get_device_name(i)}\")\n",
    "\n",
    "%matplotlib inline"
   ]
  },
  {
   "cell_type": "code",
   "execution_count": 28,
   "metadata": {
    "pycharm": {
     "name": "#%%\n",
     "is_executing": false
    }
   },
   "outputs": [],
   "source": [
    "seed = 42\n",
    "n_threads = 20\n",
    "# dataset_name = \"digits\"\n",
    "dataset_name = \"fashion\"\n",
    "n_images = 5000\n",
    "# err_source = \"noise\"\n",
    "err_source = \"rotation\"\n",
    "# err_params = np.round(np.linspace(0, 16, num=6), 3)\n",
    "# err_params = np.round(np.linspace(0, 255, num=6), 3)\n",
    "err_params = np.linspace(0, 180, num=1)\n",
    "time_limit_mins = 5\n",
    "# model_name = \"autokeras\"\n",
    "# model_name = \"h2o\"\n",
    "model_name = \"tpot\"\n",
    "augment = False\n",
    "gpu = False\n",
    "\n",
    "model_full_name = model_name\n",
    "if augment:\n",
    "    model_full_name += \"_aug\"\n",
    "if gpu:\n",
    "    model_full_name += \"_gpu\""
   ]
  },
  {
   "cell_type": "code",
   "execution_count": 29,
   "metadata": {
    "pycharm": {
     "name": "#%%\n",
     "is_executing": false
    }
   },
   "outputs": [],
   "source": [
    "rn.seed(seed)\n",
    "np.random.seed(seed)\n",
    "\n",
    "if dataset_name == \"digits\":\n",
    "    x, y = load_digits(return_X_y=True)\n",
    "    y = y.astype(np.uint8)\n",
    "    x = x.astype(np.uint8)\n",
    "    x_train, x_test, y_train, y_test = train_test_split(x, y, test_size=.25, random_state=RandomState(seed))\n",
    "    s = np.sqrt(len(x[0])).astype(int)\n",
    "else:\n",
    "    (x_train, y_train), (x_test, y_test) = fashion_mnist.load_data()\n",
    "    s = x_train.shape[1]\n",
    "    x_train = x_train.reshape((len(x_train), s ** 2))\n",
    "    x_test = x_test.reshape((len(x_test), s ** 2))\n",
    "\n",
    "if n_images != 0:\n",
    "    x_train = x_train[:n_images]\n",
    "    y_train = y_train[:n_images]"
   ]
  },
  {
   "cell_type": "code",
   "execution_count": 30,
   "metadata": {
    "pycharm": {
     "name": "#%%\n",
     "is_executing": false
    }
   },
   "outputs": [
    {
     "data": {
      "text/plain": "<Figure size 432x288 with 1 Axes>",
      "image/png": "[encoded data removed]"
     },
     "metadata": {
      "needs_background": "light"
     },
     "output_type": "display_data"
    },
    {
     "data": {
      "text/plain": "<Figure size 432x288 with 1 Axes>",
      "image/png": "[encoded data removed]"
     },
     "metadata": {
      "needs_background": "light"
     },
     "output_type": "display_data"
    }
   ],
   "source": [
    "rn.seed(seed)\n",
    "np.random.seed(seed)\n",
    "random_state = RandomState(seed)\n",
    "\n",
    "def show_images(arr):\n",
    "    plt.imshow(arr.reshape(s, s), cmap=\"gray_r\")\n",
    "    plt.show()\n",
    "\n",
    "def add_noise(arr, std):\n",
    "    arr = arr.astype(float)\n",
    "    arr += random_state.normal(scale=std, size=arr.shape)\n",
    "    arr = np.clip(arr, 0, np.amax(x_test))\n",
    "    arr = np.round(arr).astype(np.uint8)\n",
    "    return arr\n",
    "\n",
    "def rotate(arr, angle):\n",
    "    arr = arr.reshape(s, s).astype(float)\n",
    "    angle = random_state.uniform(-angle, angle)\n",
    "    img = Image.fromarray(arr).rotate(angle)\n",
    "    arr = np.asarray(img)\n",
    "    arr = np.round(arr).flatten().astype(np.uint8)\n",
    "    return arr\n",
    "\n",
    "if err_source == \"noise\":\n",
    "    error_generator = add_noise\n",
    "    err_param_name = \"std\"\n",
    "else:\n",
    "    error_generator = rotate\n",
    "    err_param_name = \"max_angle\"\n",
    "\n",
    "err_x_train_list = [np.apply_along_axis(error_generator, 1, x_train, ep) for ep in err_params]\n",
    "err_x_test_list = [np.apply_along_axis(error_generator, 1, x_test, ep) for ep in err_params]\n",
    "\n",
    "show_images(x_train[1])\n",
    "show_images(error_generator(x_train[1], err_params[-1]))"
   ]
  },
  {
   "cell_type": "code",
   "execution_count": 31,
   "metadata": {
    "pycharm": {
     "name": "#%%\n",
     "is_executing": false
    }
   },
   "outputs": [],
   "source": [
    "rn.seed(seed)\n",
    "np.random.seed(seed)\n",
    "tf.random.set_seed(seed)\n",
    "torch.manual_seed(seed)\n",
    "\n",
    "class AbstractModel(ABC):\n",
    "    \n",
    "    model = None\n",
    "    time_train = np.nan\n",
    "    \n",
    "    def __init__(self, err_param_idx_train):\n",
    "        self.err_param_idx_train = err_param_idx_train\n",
    "\n",
    "    def prepare(self, x_train, y_train):\n",
    "        model_description = f\"{model_full_name}_{err_param_name}_{np.round(err_params[self.err_param_idx_train], 3)}_\" \\\n",
    "                            f\"time_limit_mins_{time_limit_mins}\"\n",
    "        model_path_prefix = f\"models_{dataset_name}/model_{model_description}\"\n",
    "        summary_path = f\"models_{dataset_name}/summary_{model_description}.txt\"\n",
    "\n",
    "        if Path(summary_path).is_file():\n",
    "            self.load(model_path_prefix)\n",
    "        else:\n",
    "            self.fit(x_train, y_train)\n",
    "            self.save(model_path_prefix)\n",
    "            summary = self.get_summary(len(x_train))\n",
    "            with open(summary_path, \"w\") as f:\n",
    "                print(f\"Actual train time: {str(self.time_train)}\\n\\n{summary}\", file=f)\n",
    "\n",
    "    @abstractmethod\n",
    "    def fit(self, x_train, y_train):\n",
    "        pass\n",
    "    \n",
    "    @abstractmethod\n",
    "    def save(self, model_path_prefix):\n",
    "        pass\n",
    "    \n",
    "    @abstractmethod\n",
    "    def load(self, model_path_prefix):\n",
    "        pass\n",
    "        \n",
    "    @abstractmethod    \n",
    "    def get_summary(self, *args):\n",
    "        pass\n",
    "    \n",
    "    @abstractmethod\n",
    "    def predict(self, x_test, y_test):\n",
    "        pass\n",
    "\n",
    "    @abstractmethod\n",
    "    def shutdown(self):\n",
    "        pass\n",
    "\n",
    "class AutoKerasModel(AbstractModel):\n",
    "    \n",
    "    def __init__(self, err_param_idx_train):\n",
    "        super().__init__(err_param_idx_train)\n",
    "\n",
    "    def fit(self, x_train, y_train):\n",
    "        if augment:\n",
    "            self.model = ak.ImageClassifier(augment=True, path=mkdtemp(dir=\"temp\"), verbose=True)\n",
    "        else:\n",
    "            self.model = ak.ImageClassifier(augment=False, path=mkdtemp(dir=\"temp\"), verbose=True)\n",
    "        x_train = x_train.reshape((len(x_train), s, s, 1))\n",
    "        time_start = time.time()\n",
    "        self.model.fit(x_train, y_train, time_limit=60 * time_limit_mins)\n",
    "        self.time_train = timedelta(seconds=np.round(time.time() - time_start))\n",
    "    \n",
    "    def load(self, model_path_prefix):\n",
    "        self.model = pickle_from_file(f\"{model_path_prefix}.pkl\")\n",
    "    \n",
    "    def save(self, model_path_prefix):\n",
    "        self.model.export_autokeras_model(f\"{model_path_prefix}.pkl\")\n",
    "        \n",
    "    def get_summary(self, n_train):\n",
    "        return pms.summary(self.model.cnn.best_model.produce_model(), torch.zeros(1, 1, n_train, s ** 2))\n",
    "    \n",
    "    def predict(self, x_test, y_test):\n",
    "        x_test = x_test.reshape((len(x_test), s, s, 1))\n",
    "        y_pred = self.model.predict(x_test)\n",
    "        return np.round(accuracy_score(y_true=y_test, y_pred=y_pred), 3)\n",
    "    \n",
    "    def shutdown(self):\n",
    "        pass\n",
    "\n",
    "class H2OAutoMLModel(AbstractModel):\n",
    "\n",
    "    def __init__(self, err_param_idx_train):\n",
    "        super().__init__(err_param_idx_train)\n",
    "        h2o.init(name=f\"#{rn.SystemRandom().randint(1, 2 ** 20)}\", nthreads=n_threads)\n",
    "        # h2o.no_progress()\n",
    "    \n",
    "    def fit(self, x_train, y_train):\n",
    "        training_frame = h2o.H2OFrame(np.concatenate((x_train, y_train.reshape(-1, 1)), axis=1))\n",
    "        x_cols = np.array(training_frame.columns)[:-1].tolist()\n",
    "        y_cols = np.array(training_frame.columns)[-1].tolist()\n",
    "        training_frame[y_cols] = training_frame[y_cols].asfactor()\n",
    "        self.model = H2OAutoML(\n",
    "            max_runtime_secs=60 * time_limit_mins, exclude_algos=[\"XGBoost\"], seed=seed, verbosity=\"info\"\n",
    "        )\n",
    "        time_start = time.time()\n",
    "        self.model.train(x=x_cols, y=y_cols, training_frame=training_frame)\n",
    "        self.time_train = timedelta(seconds=np.round(time.time() - time_start))\n",
    "    \n",
    "    def load(self, model_path_prefix):\n",
    "        self.model = h2o.load_model(model_path_prefix)\n",
    "    \n",
    "    def save(self, model_path_prefix):\n",
    "        temp_path = h2o.save_model(model=self.model.leader, path=f\"models_{dataset_name}\", force=True)\n",
    "        source = Path(temp_path)\n",
    "        target = Path(model_path_prefix)\n",
    "        source.rename(target)\n",
    "\n",
    "    def get_summary(self, n_train):\n",
    "        leader_params = self.model.leader.params\n",
    "        summary = \"model_id:\\n\" + leader_params[\"model_id\"][\"actual\"][\"name\"] + \"\\n\\n\"\n",
    "        summary += \"base_models:\"\n",
    "        if \"base_models\" in leader_params:\n",
    "            for base_model in leader_params[\"base_models\"][\"actual\"]:\n",
    "                summary += \"\\n\" + base_model[\"name\"]\n",
    "        return summary\n",
    "    \n",
    "    def predict(self, x_test, y_test):\n",
    "        testing_frame = h2o.H2OFrame(np.concatenate((x_test, y_test.reshape(-1, 1)), axis=1))\n",
    "        y_cols = np.array(testing_frame.columns)[-1].tolist()\n",
    "        testing_frame[y_cols] = testing_frame[y_cols].asfactor()\n",
    "        y_pred = self.model.predict(testing_frame).as_data_frame(header=False)[\"predict\"].values.astype(int)\n",
    "        return np.round(accuracy_score(y_true=y_test, y_pred=y_pred), 3)\n",
    "\n",
    "    def shutdown(self):\n",
    "        h2o.cluster().shutdown()\n",
    "\n",
    "class TPOTModel(AbstractModel):\n",
    "\n",
    "    def __init__(self, err_param_idx_train):\n",
    "        super().__init__(err_param_idx_train)\n",
    "    \n",
    "    def fit(self, x_train, y_train):\n",
    "        self.model = TPOTClassifier(\n",
    "            max_time_mins=time_limit_mins, max_eval_time_mins=time_limit_mins, n_jobs=n_threads, random_state=seed,\n",
    "            verbosity=2\n",
    "        )\n",
    "        time_start = time.time()\n",
    "        self.model.fit(x_train, y_train)\n",
    "        self.time_train = timedelta(seconds=np.round(time.time() - time_start))\n",
    "    \n",
    "    def load(self, model_path_prefix):\n",
    "        with open(f\"{model_path_prefix}.pkl\", \"rb\") as f:\n",
    "            self.model = pickle.load(f)\n",
    "    \n",
    "    def save(self, model_path_prefix):\n",
    "        with open(f\"{model_path_prefix}.pkl\", \"wb\") as f:\n",
    "            pickle.dump(self.model.fitted_pipeline_, f)\n",
    "\n",
    "    def get_summary(self, n_train):\n",
    "        summary = \"Steps:\"\n",
    "        for i, step in enumerate(self.model.fitted_pipeline_.steps):\n",
    "            summary += f\"\\n{i}. {str(step[1])}\"\n",
    "        return summary\n",
    "    \n",
    "    def predict(self, x_test, y_test):\n",
    "        return round(self.model.score(x_test, y_test), 3)\n",
    "\n",
    "    def shutdown(self):\n",
    "        pass"
   ]
  },
  {
   "cell_type": "code",
   "execution_count": 32,
   "metadata": {
    "pycharm": {
     "name": "#%%\n",
     "is_executing": false
    }
   },
   "outputs": [
    {
     "name": "stdout",
     "text": [
      "Checking whether there is an H2O instance running at http://localhost:54321 ..... not found.\n",
      "Attempting to start a local H2O server...\n",
      "; Java HotSpot(TM) 64-Bit Server VM 18.9 (build 11.0.6+8-LTS, mixed mode)\n",
      "  Starting server from c:\\users\\thalvari\\pycharmprojects\\automl_comparison\\venv\\lib\\site-packages\\h2o\\backend\\bin\\h2o.jar\n",
      "  Ice root: C:\\Users\\thalvari\\AppData\\Local\\Temp\\tmp87zuu89d\n",
      "  JVM stdout: C:\\Users\\thalvari\\AppData\\Local\\Temp\\tmp87zuu89d\\h2o_thalvari_started_from_python.out\n",
      "  JVM stderr: C:\\Users\\thalvari\\AppData\\Local\\Temp\\tmp87zuu89d\\h2o_thalvari_started_from_python.err\n",
      "  Server is running at http://127.0.0.1:54323\n",
      "Connecting to H2O server at http://127.0.0.1:54323 ... successful.\n",
      "Parse progress: |█████████████████████████████████████████████████████████| 100%\n",
      "AutoML progress: |\n",
      "05:16:07.912: Project: AutoML_20200302_51607910\n",
      "05:16:07.913: Setting stopping tolerance adaptively based on the training frame: 0.01414213562373095\n",
      "05:16:07.913: Build control seed: 42\n",
      "05:16:07.914: training frame: Frame key: automl_training_py_205_sid_8d27    cols: 785    rows: 5000  chunks: 3    size: 3615364  checksum: 42125782396719\n",
      "05:16:07.914: validation frame: NULL\n",
      "05:16:07.914: leaderboard frame: NULL\n",
      "05:16:07.914: blending frame: NULL\n",
      "05:16:07.914: response column: C785\n",
      "05:16:07.915: fold column: null\n",
      "05:16:07.915: weights column: null\n",
      "05:16:07.921: Loading execution steps: [{XGBoost : defaults}, {GLM : defaults}, {DRF : [def_1]}, {GBM : defaults}, {DeepLearning : defaults}, {DRF : [XRT]}, {XGBoost : grids}, {GBM : grids}, {DeepLearning : grids}, {StackedEnsemble : defaults}]\n",
      "05:16:07.927: Disabling Algo: XGBoost as requested by the user.\n",
      "05:16:07.927: AutoML job created: 2020.03.02 05:16:07.910\n",
      "05:16:07.928: AutoML build started: 2020.03.02 05:16:07.927\n",
      "05:16:07.932: AutoML: starting GLM_1_AutoML_20200302_051607 model training\n",
      "\n",
      "███████\n",
      "05:16:43.29: New leader: GLM_1_AutoML_20200302_051607, mean_per_class_error: 0.15778746943200037\n",
      "05:16:43.30: AutoML: starting DRF_1_AutoML_20200302_051607 model training\n",
      "\n",
      "███████\n",
      "05:17:22.115: New leader: DRF_1_AutoML_20200302_051607, mean_per_class_error: 0.15330597632052023\n",
      "05:17:22.116: AutoML: starting GBM_1_AutoML_20200302_051607 model training\n",
      "\n",
      "████████████████████\n",
      "05:19:12.37: New leader: GBM_1_AutoML_20200302_051607, mean_per_class_error: 0.1527349232202776\n",
      "05:19:12.38: AutoML: starting GBM_2_AutoML_20200302_051607 model training\n",
      "\n",
      "█████████████████\n",
      "05:20:41.871: New leader: GBM_2_AutoML_20200302_051607, mean_per_class_error: 0.1483815229165646\n",
      "05:20:41.871: AutoML: starting GBM_3_AutoML_20200302_051607 model training\n",
      "\n",
      "█████| 100%\n",
      "\n",
      "05:21:07.272: AutoML: starting GBM_4_AutoML_20200302_051607 model training\n",
      "05:21:09.431: GBM_4_AutoML_20200302_051607 [GBM def_4] cancelled\n",
      "05:21:09.432: AutoML: starting StackedEnsemble_BestOfFamily_AutoML_20200302_051607 model training\n",
      "05:21:13.436: New leader: StackedEnsemble_BestOfFamily_AutoML_20200302_051607, mean_per_class_error: 0.1453706201544087\n",
      "05:21:13.436: AutoML: starting StackedEnsemble_AllModels_AutoML_20200302_051607 model training\n",
      "05:21:20.443: New leader: StackedEnsemble_AllModels_AutoML_20200302_051607, mean_per_class_error: 0.14497680997228987\n",
      "05:21:20.443: Actual modeling steps: [{GLM : [def_1 (10)]}, {DRF : [def_1 (10)]}, {GBM : [def_1 (10), def_2 (10), def_3 (10), def_4 (10)]}, {StackedEnsemble : [best (10), all (10)]}]\n",
      "05:21:20.443: AutoML build stopped: 2020.03.02 05:21:20.443\n",
      "05:21:20.443: AutoML build done: built 7 models\n",
      "05:21:20.443: AutoML duration:  5 min 12.516 sec\n",
      "\n",
      "Parse progress: |█████████████████████████████████████████████████████████| 100%\n",
      "stackedensemble prediction progress: |████████████████████████████████████| 100%\n",
      "H2O session _sid_8d27 closed.\n"
     ],
     "output_type": "stream"
    },
    {
     "data": {
      "text/plain": "--------------------------  ---------------------------------------------------------\nH2O cluster uptime:         01 secs\nH2O cluster timezone:       Europe/Helsinki\nH2O data parsing timezone:  UTC\nH2O cluster version:        3.28.0.3\nH2O cluster version age:    25 days\nH2O cluster name:           #87309\nH2O cluster total nodes:    1\nH2O cluster free memory:    3.988 Gb\nH2O cluster total cores:    12\nH2O cluster allowed cores:  12\nH2O cluster status:         accepting new members, healthy\nH2O connection url:         http://127.0.0.1:54323\nH2O connection proxy:       {'http': None, 'https': None}\nH2O internal security:      False\nH2O API Extensions:         Amazon S3, Algos, AutoML, Core V3, TargetEncoder, Core V4\nPython version:             3.7.6 final\n--------------------------  ---------------------------------------------------------",
      "text/html": "<div style=\"overflow:auto\"><table style=\"width:50%\"><tr><td>H2O cluster uptime:</td>\n<td>01 secs</td></tr>\n<tr><td>H2O cluster timezone:</td>\n<td>Europe/Helsinki</td></tr>\n<tr><td>H2O data parsing timezone:</td>\n<td>UTC</td></tr>\n<tr><td>H2O cluster version:</td>\n<td>3.28.0.3</td></tr>\n<tr><td>H2O cluster version age:</td>\n<td>25 days </td></tr>\n<tr><td>H2O cluster name:</td>\n<td>#87309</td></tr>\n<tr><td>H2O cluster total nodes:</td>\n<td>1</td></tr>\n<tr><td>H2O cluster free memory:</td>\n<td>3.988 Gb</td></tr>\n<tr><td>H2O cluster total cores:</td>\n<td>12</td></tr>\n<tr><td>H2O cluster allowed cores:</td>\n<td>12</td></tr>\n<tr><td>H2O cluster status:</td>\n<td>accepting new members, healthy</td></tr>\n<tr><td>H2O connection url:</td>\n<td>http://127.0.0.1:54323</td></tr>\n<tr><td>H2O connection proxy:</td>\n<td>{'http': None, 'https': None}</td></tr>\n<tr><td>H2O internal security:</td>\n<td>False</td></tr>\n<tr><td>H2O API Extensions:</td>\n<td>Amazon S3, Algos, AutoML, Core V3, TargetEncoder, Core V4</td></tr>\n<tr><td>Python version:</td>\n<td>3.7.6 final</td></tr></table></div>"
     },
     "metadata": {},
     "output_type": "display_data"
    }
   ],
   "source": [
    "rn.seed(seed)\n",
    "np.random.seed(seed)\n",
    "tf.random.set_seed(seed)\n",
    "torch.manual_seed(seed)\n",
    "\n",
    "scores = []\n",
    "for err_param_idx_train, err_x_train in enumerate(err_x_train_list):\n",
    "    if model_name == \"autokeras\":\n",
    "        model = AutoKerasModel(err_param_idx_train)\n",
    "    elif model_name == \"h2o\":\n",
    "        model = H2OAutoMLModel(err_param_idx_train)\n",
    "    elif model_name == \"tpot\":\n",
    "        model = TPOTModel(err_param_idx_train)\n",
    "    else:\n",
    "        model = None\n",
    "    model.prepare(err_x_train, y_train)\n",
    "    for err_param_idx_test, err_x_test in enumerate(err_x_test_list):\n",
    "        scores.append({\n",
    "            f\"train_{err_param_name}\": np.round(err_params[err_param_idx_train]),\n",
    "            f\"test_{err_param_name}\": np.round(err_params[err_param_idx_test]),\n",
    "            \"accuracy\": model.predict(err_x_test, y_test),\n",
    "        })\n",
    "    model.shutdown()"
   ]
  },
  {
   "cell_type": "code",
   "execution_count": 33,
   "metadata": {
    "pycharm": {
     "name": "#%%\n",
     "is_executing": false
    }
   },
   "outputs": [
    {
     "data": {
      "text/plain": "   train_max_angle  test_max_angle  accuracy\n0              0.0             0.0     0.849",
      "text/html": "<div>\n<style scoped>\n    .dataframe tbody tr th:only-of-type {\n        vertical-align: middle;\n    }\n\n    .dataframe tbody tr th {\n        vertical-align: top;\n    }\n\n    .dataframe thead th {\n        text-align: right;\n    }\n</style>\n<table border=\"1\" class=\"dataframe\">\n  <thead>\n    <tr style=\"text-align: right;\">\n      <th></th>\n      <th>train_max_angle</th>\n      <th>test_max_angle</th>\n      <th>accuracy</th>\n    </tr>\n  </thead>\n  <tbody>\n    <tr>\n      <th>0</th>\n      <td>0.0</td>\n      <td>0.0</td>\n      <td>0.849</td>\n    </tr>\n  </tbody>\n</table>\n</div>"
     },
     "metadata": {},
     "output_type": "execute_result",
     "execution_count": 33
    }
   ],
   "source": [
    "scores_df = pd.DataFrame(scores)\n",
    "scores_path = f\"scores_{dataset_name}/{model_full_name}_{err_source}_time_limit_mins_{time_limit_mins}.pkl\"\n",
    "scores_df.to_pickle(scores_path)\n",
    "scores_df"
   ]
  }
 ],
 "metadata": {
  "kernelspec": {
   "display_name": "Python 3",
   "language": "python",
   "name": "python3"
  },
  "language_info": {
   "codemirror_mode": {
    "name": "ipython",
    "version": 3
   },
   "file_extension": ".py",
   "mimetype": "text/x-python",
   "name": "python",
   "nbconvert_exporter": "python",
   "pygments_lexer": "ipython3",
   "version": "3.7.6"
  },
  "pycharm": {
   "stem_cell": {
    "cell_type": "raw",
    "source": [],
    "metadata": {
     "collapsed": false
    }
   }
  }
 },
 "nbformat": 4,
 "nbformat_minor": 1
}