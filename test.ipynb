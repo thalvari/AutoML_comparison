{
 "cells": [
  {
   "cell_type": "code",
   "execution_count": 45,
   "metadata": {
    "collapsed": true,
    "pycharm": {
     "is_executing": false
    }
   },
   "outputs": [],
   "source": [
    "import AutoKeras as ak\n",
    "import matplotlib.pyplot as plt\n",
    "import numpy as np\n",
    "import pandas as pd\n",
    "from IPython.core.display import display\n",
    "from PIL import Image\n",
    "from numpy.random.mtrand import RandomState\n",
    "from sklearn.datasets import load_digits\n",
    "from sklearn.model_selection import train_test_split\n",
    "\n",
    "%matplotlib inline\n",
    "\n",
    "seed = 42\n",
    "time_limit_mins = 5"
   ]
  },
  {
   "cell_type": "code",
   "execution_count": 108,
   "outputs": [],
   "source": [
    "np.random.seed(seed)\n",
    "random_state = RandomState(seed)\n",
    "\n",
    "x, y = load_digits(return_X_y=True)\n",
    "x = x.astype(np.uint8)\n",
    "y = y.astype(np.uint8)\n",
    "x_train, x_test, y_train, y_test = train_test_split(x, y, test_size=.25, random_state=random_state)\n",
    "s = np.sqrt(len(x_train[0])).astype(int)"
   ],
   "metadata": {
    "collapsed": false,
    "pycharm": {
     "name": "#%%\n",
     "is_executing": false
    }
   }
  },
  {
   "cell_type": "code",
   "execution_count": 120,
   "outputs": [
    {
     "data": {
      "text/plain": "<Figure size 432x288 with 1 Axes>",
      "image/png": "[encoded data removed]"
     },
     "metadata": {
      "needs_background": "light"
     },
     "output_type": "display_data"
    },
    {
     "data": {
      "text/plain": "<Figure size 432x288 with 1 Axes>",
      "image/png": "[encoded data removed]"
     },
     "metadata": {
      "needs_background": "light"
     },
     "output_type": "display_data"
    }
   ],
   "source": [
    "np.random.seed(seed)\n",
    "random_state = RandomState(seed)\n",
    "\n",
    "def show_img(arr):\n",
    "    plt.imshow(arr.reshape(s, s), cmap=\"gray_r\")\n",
    "    plt.show()\n",
    "\n",
    "def rotate(arr, err_param):\n",
    "    arr = arr.reshape(s, s).astype(float)\n",
    "    \n",
    "    angle = random_state.uniform(-err_param, err_param)\n",
    "    img = Image.fromarray(arr).rotate(angle)\n",
    "    arr = np.asarray(img)\n",
    "    \n",
    "    arr = np.round(arr).flatten().astype(np.uint8)\n",
    "    return arr\n",
    "\n",
    "show_img(x_train[1])\n",
    "show_img(rotate(x_train[1], 180))"
   ],
   "metadata": {
    "collapsed": false,
    "pycharm": {
     "name": "#%%\n",
     "is_executing": false
    }
   }
  },
  {
   "cell_type": "code",
   "execution_count": 102,
   "outputs": [
    {
     "data": {
      "text/plain": "<Figure size 432x288 with 1 Axes>",
      "image/png": "[encoded data removed]"
     },
     "metadata": {
      "needs_background": "light"
     },
     "output_type": "display_data"
    },
    {
     "data": {
      "text/plain": "<Figure size 432x288 with 1 Axes>",
      "image/png": "[encoded data removed]"
     },
     "metadata": {
      "needs_background": "light"
     },
     "output_type": "display_data"
    }
   ],
   "source": [
    "np.random.seed(seed)\n",
    "random_state = RandomState(seed)\n",
    "\n",
    "err_params = np.linspace(0, 180, num=6)\n",
    "err_x_train_list = [np.apply_along_axis(rotate, 1, x_train, ep) for ep in err_params]\n",
    "err_x_test_list = [np.apply_along_axis(rotate, 1, x_test, ep) for ep in err_params]\n",
    "show_img(err_x_train_list[5][1])\n",
    "show_img(err_x_test_list[5][1])"
   ],
   "metadata": {
    "collapsed": false,
    "pycharm": {
     "name": "#%%\n",
     "is_executing": false
    }
   }
  },
  {
   "cell_type": "code",
   "execution_count": null,
   "outputs": [],
   "source": [
    "np.random.seed(seed)\n",
    "random_state = RandomState(seed)\n",
    "\n",
    "def get_fitted_model(x_train, y_train):\n",
    "    x_train = x_train.reshape((len(x_train), s, s, 1))\n",
    "    clf = ak.ImageClassifier(augment=True, path=generate_tmpdir(), verbose=False)\n",
    "    clf.fit(x_train, y_train, time_limit=60*self.time_limit_mins)\n",
    "    return clf\n",
    "\n",
    "\n",
    "def get_score(x_train, y_train):\n",
    "       pass \n",
    "\n",
    "scores = {\"accuracy\": []}\n",
    "for err_x_train in err_x_train_list:\n",
    "    clf = get_fitted_model(err_x_train, y_train)\n",
    "    for err_x_test in err_x_test_list:\n",
    "        scores[\"accuracy\"].append(get_score(err_x_test, y_test))\n",
    "\n",
    "scores_df = pd.DataFrame(scores)\n",
    "scores_df"
   ],
   "metadata": {
    "collapsed": false,
    "pycharm": {
     "name": "#%%\n"
    }
   }
  }
 ],
 "metadata": {
  "kernelspec": {
   "display_name": "Python 3",
   "language": "python",
   "name": "python3"
  },
  "language_info": {
   "codemirror_mode": {
    "name": "ipython",
    "version": 2
   },
   "file_extension": ".py",
   "mimetype": "text/x-python",
   "name": "python",
   "nbconvert_exporter": "python",
   "pygments_lexer": "ipython2",
   "version": "2.7.6"
  },
  "pycharm": {
   "stem_cell": {
    "cell_type": "raw",
    "source": [],
    "metadata": {
     "collapsed": false
    }
   }
  }
 },
 "nbformat": 4,
 "nbformat_minor": 0
}